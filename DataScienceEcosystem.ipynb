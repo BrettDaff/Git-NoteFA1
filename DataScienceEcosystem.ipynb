{
 "cells": [
  {
   "cell_type": "markdown",
   "id": "8a08952e-ee3e-4ef6-89de-7748b1443a1a",
   "metadata": {},
   "source": [
    "# Data Science Tools and Ecosystem"
   ]
  },
  {
   "cell_type": "markdown",
   "id": "f3fe3864-6c41-4ecc-8d05-64e7cf351882",
   "metadata": {},
   "source": [
    "## This notebook is a sumarization of the Ecosystems and Tools of Data Science."
   ]
  },
  {
   "cell_type": "markdown",
   "id": "14c70cf4-837d-4e4e-888c-b46afe2ba746",
   "metadata": {
    "tags": []
   },
   "source": [
    "# **Objectives:**\n",
    "* List popular languages\n",
    "* List common libraries\n",
    "* List tools of Data Science\n",
    "* Perform basic arithmatic"
   ]
  },
  {
   "cell_type": "markdown",
   "id": "c0caa0c1-713d-4cae-9b24-38b94bc37930",
   "metadata": {},
   "source": [
    "### Some of the typical and popular languages of data science include:\n",
    "1. Python\n",
    "2. R\n",
    "3. Java\n",
    "4. Scala\n",
    "5. C++"
   ]
  },
  {
   "cell_type": "markdown",
   "id": "6d36d3fe-7d6f-4406-aea1-6a3e95822dd3",
   "metadata": {},
   "source": [
    "### Libraries that are commonly used in Data Science include:\n",
    "1. TensorFlow\n",
    "2. Matplotlib \n",
    "3. Pandas \n",
    "4. SciKit-Learn"
   ]
  },
  {
   "cell_type": "markdown",
   "id": "8fd9caff-8dd7-44e1-8070-19a8cbefa433",
   "metadata": {
    "tags": []
   },
   "source": [
    "|Data Science Tools|\n",
    "|------------------|\n",
    "|Jupyter           |\n",
    "|Apache Spark      |\n",
    "|Knime             |"
   ]
  },
  {
   "cell_type": "markdown",
   "id": "1ec14c75-62dd-4553-a8c5-53d6858d742d",
   "metadata": {},
   "source": [
    "### The following are examples of evaluating arithmatic in python:"
   ]
  },
  {
   "cell_type": "code",
   "execution_count": 3,
   "id": "db6f3842-8760-43e6-ae74-417e5d0d9bdb",
   "metadata": {
    "tags": []
   },
   "outputs": [
    {
     "data": {
      "text/plain": [
       "17"
      ]
     },
     "execution_count": 3,
     "metadata": {},
     "output_type": "execute_result"
    }
   ],
   "source": [
    "# this is an expression to multiply and then add interagers \n",
    "(3*4)+5"
   ]
  },
  {
   "cell_type": "code",
   "execution_count": 6,
   "id": "9afad435-a577-470c-b68e-ed0a8887a502",
   "metadata": {
    "tags": []
   },
   "outputs": [
    {
     "data": {
      "text/plain": [
       "3.3333333333333335"
      ]
     },
     "execution_count": 6,
     "metadata": {},
     "output_type": "execute_result"
    }
   ],
   "source": [
    "# this will convert 200 minutes into hours by dividing by 60\n",
    "Minutes = 200\n",
    "Hours = 60\n",
    "(Minutes/Hours)"
   ]
  },
  {
   "cell_type": "markdown",
   "id": "a2843b55-213e-4e89-9b01-a7d0b673b62d",
   "metadata": {},
   "source": [
    "## Author\n",
    "Brett Daffron"
   ]
  },
  {
   "cell_type": "code",
   "execution_count": null,
   "id": "e580b08c-0b15-4743-a79f-a3b4fcc952d1",
   "metadata": {},
   "outputs": [],
   "source": []
  }
 ],
 "metadata": {
  "kernelspec": {
   "display_name": "Python",
   "language": "python",
   "name": "conda-env-python-py"
  },
  "language_info": {
   "codemirror_mode": {
    "name": "ipython",
    "version": 3
   },
   "file_extension": ".py",
   "mimetype": "text/x-python",
   "name": "python",
   "nbconvert_exporter": "python",
   "pygments_lexer": "ipython3",
   "version": "3.7.12"
  }
 },
 "nbformat": 4,
 "nbformat_minor": 5
}
